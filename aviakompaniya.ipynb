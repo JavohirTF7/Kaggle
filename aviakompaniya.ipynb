{
 "cells": [
  {
   "cell_type": "code",
   "execution_count": 1,
   "id": "1d22180f",
   "metadata": {
    "_cell_guid": "b1076dfc-b9ad-4769-8c92-a6c4dae69d19",
    "_uuid": "8f2839f25d086af736a60e9eeb907d3b93b6e0e5",
    "execution": {
     "iopub.execute_input": "2022-12-29T17:35:11.148286Z",
     "iopub.status.busy": "2022-12-29T17:35:11.147719Z",
     "iopub.status.idle": "2022-12-29T17:35:11.161553Z",
     "shell.execute_reply": "2022-12-29T17:35:11.160176Z"
    },
    "papermill": {
     "duration": 0.03156,
     "end_time": "2022-12-29T17:35:11.164600",
     "exception": false,
     "start_time": "2022-12-29T17:35:11.133040",
     "status": "completed"
    },
    "tags": []
   },
   "outputs": [
    {
     "name": "stdout",
     "output_type": "stream",
     "text": [
      "/kaggle/input/aviakompaniya/sample_submission.csv\n",
      "/kaggle/input/aviakompaniya/train_dataset.csv\n",
      "/kaggle/input/aviakompaniya/test_dataset.csv\n"
     ]
    }
   ],
   "source": [
    "# This Python 3 environment comes with many helpful analytics libraries installed\n",
    "# It is defined by the kaggle/python Docker image: https://github.com/kaggle/docker-python\n",
    "# For example, here's several helpful packages to load\n",
    "\n",
    "import numpy as np # linear algebra\n",
    "import pandas as pd # data processing, CSV file I/O (e.g. pd.read_csv)\n",
    "\n",
    "# Input data files are available in the read-only \"../input/\" directory\n",
    "# For example, running this (by clicking run or pressing Shift+Enter) will list all files under the input directory\n",
    "\n",
    "import os\n",
    "for dirname, _, filenames in os.walk('/kaggle/input'):\n",
    "    for filename in filenames:\n",
    "        print(os.path.join(dirname, filename))\n",
    "\n",
    "# You can write up to 20GB to the current directory (/kaggle/working/) that gets preserved as output when you create a version using \"Save & Run All\" \n",
    "# You can also write temporary files to /kaggle/temp/, but they won't be saved outside of the current session"
   ]
  },
  {
   "cell_type": "code",
   "execution_count": 2,
   "id": "906016fc",
   "metadata": {
    "execution": {
     "iopub.execute_input": "2022-12-29T17:35:11.192007Z",
     "iopub.status.busy": "2022-12-29T17:35:11.191496Z",
     "iopub.status.idle": "2022-12-29T17:35:13.089502Z",
     "shell.execute_reply": "2022-12-29T17:35:13.088185Z"
    },
    "papermill": {
     "duration": 1.916739,
     "end_time": "2022-12-29T17:35:13.092805",
     "exception": false,
     "start_time": "2022-12-29T17:35:11.176066",
     "status": "completed"
    },
    "tags": []
   },
   "outputs": [],
   "source": [
    "import matplotlib.pyplot as plt\n",
    "import seaborn as sns\n",
    "%matplotlib inline\n",
    "\n",
    "\n",
    "from sklearn.pipeline import Pipeline\n",
    "from sklearn.compose import ColumnTransformer\n",
    "from sklearn.preprocessing import StandardScaler,MinMaxScaler\n",
    "from sklearn.preprocessing import OrdinalEncoder, OneHotEncoder\n",
    "from sklearn.model_selection import train_test_split, StratifiedShuffleSplit\n",
    "from sklearn.metrics import classification_report, confusion_matrix\n",
    "import sklearn.metrics as metrics\n",
    "\n",
    "from sklearn import linear_model\n",
    "from sklearn import tree\n",
    "from sklearn.tree import DecisionTreeClassifier\n",
    "from sklearn.ensemble import RandomForestRegressor\n",
    "from sklearn.linear_model import LogisticRegression\n",
    "from sklearn.preprocessing import PolynomialFeatures\n",
    "from xgboost import XGBClassifier\n",
    "from sklearn.svm import SVC\n",
    "# manual nested cross-validation for random forest on a classification dataset\n",
    "from numpy import mean\n",
    "from numpy import std\n",
    "from sklearn.datasets import make_classification\n",
    "from sklearn.model_selection import KFold\n",
    "from sklearn.model_selection import GridSearchCV\n",
    "from sklearn.ensemble import RandomForestClassifier\n",
    "from sklearn.metrics import accuracy_score"
   ]
  },
  {
   "cell_type": "code",
   "execution_count": 3,
   "id": "2f91535c",
   "metadata": {
    "execution": {
     "iopub.execute_input": "2022-12-29T17:35:13.117149Z",
     "iopub.status.busy": "2022-12-29T17:35:13.116720Z",
     "iopub.status.idle": "2022-12-29T17:35:13.217452Z",
     "shell.execute_reply": "2022-12-29T17:35:13.216118Z"
    },
    "papermill": {
     "duration": 0.117316,
     "end_time": "2022-12-29T17:35:13.221445",
     "exception": false,
     "start_time": "2022-12-29T17:35:13.104129",
     "status": "completed"
    },
    "tags": []
   },
   "outputs": [],
   "source": [
    "sample=pd.read_csv('/kaggle/input/aviakompaniya/sample_submission.csv')\n",
    "test=pd.read_csv('/kaggle/input/aviakompaniya/test_dataset.csv')\n",
    "train=pd.read_csv('/kaggle/input/aviakompaniya/train_dataset.csv')"
   ]
  },
  {
   "cell_type": "code",
   "execution_count": 4,
   "id": "66dba97d",
   "metadata": {
    "execution": {
     "iopub.execute_input": "2022-12-29T17:35:13.255036Z",
     "iopub.status.busy": "2022-12-29T17:35:13.253745Z",
     "iopub.status.idle": "2022-12-29T17:35:13.295581Z",
     "shell.execute_reply": "2022-12-29T17:35:13.293945Z"
    },
    "papermill": {
     "duration": 0.061585,
     "end_time": "2022-12-29T17:35:13.298959",
     "exception": false,
     "start_time": "2022-12-29T17:35:13.237374",
     "status": "completed"
    },
    "tags": []
   },
   "outputs": [
    {
     "data": {
      "text/html": [
       "<div>\n",
       "<style scoped>\n",
       "    .dataframe tbody tr th:only-of-type {\n",
       "        vertical-align: middle;\n",
       "    }\n",
       "\n",
       "    .dataframe tbody tr th {\n",
       "        vertical-align: top;\n",
       "    }\n",
       "\n",
       "    .dataframe thead th {\n",
       "        text-align: right;\n",
       "    }\n",
       "</style>\n",
       "<table border=\"1\" class=\"dataframe\">\n",
       "  <thead>\n",
       "    <tr style=\"text-align: right;\">\n",
       "      <th></th>\n",
       "      <th>id</th>\n",
       "      <th>Gender</th>\n",
       "      <th>Customer Type</th>\n",
       "      <th>Age</th>\n",
       "      <th>Type of Travel</th>\n",
       "      <th>Class</th>\n",
       "      <th>Flight Distance</th>\n",
       "      <th>Inflight wifi service</th>\n",
       "      <th>Departure/Arrival time convenient</th>\n",
       "      <th>Ease of Online booking</th>\n",
       "      <th>...</th>\n",
       "      <th>Inflight entertainment</th>\n",
       "      <th>On-board service</th>\n",
       "      <th>Leg room service</th>\n",
       "      <th>Baggage handling</th>\n",
       "      <th>Checkin service</th>\n",
       "      <th>Inflight service</th>\n",
       "      <th>Cleanliness</th>\n",
       "      <th>Departure Delay in Minutes</th>\n",
       "      <th>Arrival Delay in Minutes</th>\n",
       "      <th>satisfaction</th>\n",
       "    </tr>\n",
       "  </thead>\n",
       "  <tbody>\n",
       "    <tr>\n",
       "      <th>0</th>\n",
       "      <td>1</td>\n",
       "      <td>Male</td>\n",
       "      <td>disloyal Customer</td>\n",
       "      <td>33</td>\n",
       "      <td>Business travel</td>\n",
       "      <td>Eco</td>\n",
       "      <td>571</td>\n",
       "      <td>2</td>\n",
       "      <td>3</td>\n",
       "      <td>2</td>\n",
       "      <td>...</td>\n",
       "      <td>4</td>\n",
       "      <td>3</td>\n",
       "      <td>1</td>\n",
       "      <td>3</td>\n",
       "      <td>4</td>\n",
       "      <td>3</td>\n",
       "      <td>4</td>\n",
       "      <td>10</td>\n",
       "      <td>3.0</td>\n",
       "      <td>0</td>\n",
       "    </tr>\n",
       "    <tr>\n",
       "      <th>1</th>\n",
       "      <td>2</td>\n",
       "      <td>Female</td>\n",
       "      <td>Loyal Customer</td>\n",
       "      <td>49</td>\n",
       "      <td>Business travel</td>\n",
       "      <td>Business</td>\n",
       "      <td>1431</td>\n",
       "      <td>4</td>\n",
       "      <td>1</td>\n",
       "      <td>4</td>\n",
       "      <td>...</td>\n",
       "      <td>5</td>\n",
       "      <td>5</td>\n",
       "      <td>5</td>\n",
       "      <td>5</td>\n",
       "      <td>3</td>\n",
       "      <td>5</td>\n",
       "      <td>3</td>\n",
       "      <td>0</td>\n",
       "      <td>0.0</td>\n",
       "      <td>1</td>\n",
       "    </tr>\n",
       "    <tr>\n",
       "      <th>2</th>\n",
       "      <td>3</td>\n",
       "      <td>Female</td>\n",
       "      <td>Loyal Customer</td>\n",
       "      <td>43</td>\n",
       "      <td>Business travel</td>\n",
       "      <td>Eco</td>\n",
       "      <td>867</td>\n",
       "      <td>1</td>\n",
       "      <td>4</td>\n",
       "      <td>4</td>\n",
       "      <td>...</td>\n",
       "      <td>1</td>\n",
       "      <td>1</td>\n",
       "      <td>1</td>\n",
       "      <td>1</td>\n",
       "      <td>1</td>\n",
       "      <td>1</td>\n",
       "      <td>2</td>\n",
       "      <td>0</td>\n",
       "      <td>18.0</td>\n",
       "      <td>0</td>\n",
       "    </tr>\n",
       "    <tr>\n",
       "      <th>3</th>\n",
       "      <td>4</td>\n",
       "      <td>Female</td>\n",
       "      <td>Loyal Customer</td>\n",
       "      <td>27</td>\n",
       "      <td>Business travel</td>\n",
       "      <td>Business</td>\n",
       "      <td>1550</td>\n",
       "      <td>3</td>\n",
       "      <td>3</td>\n",
       "      <td>3</td>\n",
       "      <td>...</td>\n",
       "      <td>2</td>\n",
       "      <td>4</td>\n",
       "      <td>4</td>\n",
       "      <td>5</td>\n",
       "      <td>5</td>\n",
       "      <td>4</td>\n",
       "      <td>2</td>\n",
       "      <td>0</td>\n",
       "      <td>0.0</td>\n",
       "      <td>1</td>\n",
       "    </tr>\n",
       "    <tr>\n",
       "      <th>4</th>\n",
       "      <td>5</td>\n",
       "      <td>Male</td>\n",
       "      <td>Loyal Customer</td>\n",
       "      <td>11</td>\n",
       "      <td>Personal Travel</td>\n",
       "      <td>Eco</td>\n",
       "      <td>526</td>\n",
       "      <td>3</td>\n",
       "      <td>4</td>\n",
       "      <td>3</td>\n",
       "      <td>...</td>\n",
       "      <td>4</td>\n",
       "      <td>5</td>\n",
       "      <td>2</td>\n",
       "      <td>5</td>\n",
       "      <td>3</td>\n",
       "      <td>5</td>\n",
       "      <td>4</td>\n",
       "      <td>0</td>\n",
       "      <td>10.0</td>\n",
       "      <td>0</td>\n",
       "    </tr>\n",
       "  </tbody>\n",
       "</table>\n",
       "<p>5 rows × 24 columns</p>\n",
       "</div>"
      ],
      "text/plain": [
       "   id  Gender      Customer Type  Age   Type of Travel     Class  \\\n",
       "0   1    Male  disloyal Customer   33  Business travel       Eco   \n",
       "1   2  Female     Loyal Customer   49  Business travel  Business   \n",
       "2   3  Female     Loyal Customer   43  Business travel       Eco   \n",
       "3   4  Female     Loyal Customer   27  Business travel  Business   \n",
       "4   5    Male     Loyal Customer   11  Personal Travel       Eco   \n",
       "\n",
       "   Flight Distance  Inflight wifi service  Departure/Arrival time convenient  \\\n",
       "0              571                      2                                  3   \n",
       "1             1431                      4                                  1   \n",
       "2              867                      1                                  4   \n",
       "3             1550                      3                                  3   \n",
       "4              526                      3                                  4   \n",
       "\n",
       "   Ease of Online booking  ...  Inflight entertainment  On-board service  \\\n",
       "0                       2  ...                       4                 3   \n",
       "1                       4  ...                       5                 5   \n",
       "2                       4  ...                       1                 1   \n",
       "3                       3  ...                       2                 4   \n",
       "4                       3  ...                       4                 5   \n",
       "\n",
       "   Leg room service  Baggage handling  Checkin service  Inflight service  \\\n",
       "0                 1                 3                4                 3   \n",
       "1                 5                 5                3                 5   \n",
       "2                 1                 1                1                 1   \n",
       "3                 4                 5                5                 4   \n",
       "4                 2                 5                3                 5   \n",
       "\n",
       "   Cleanliness  Departure Delay in Minutes  Arrival Delay in Minutes  \\\n",
       "0            4                          10                       3.0   \n",
       "1            3                           0                       0.0   \n",
       "2            2                           0                      18.0   \n",
       "3            2                           0                       0.0   \n",
       "4            4                           0                      10.0   \n",
       "\n",
       "   satisfaction  \n",
       "0             0  \n",
       "1             1  \n",
       "2             0  \n",
       "3             1  \n",
       "4             0  \n",
       "\n",
       "[5 rows x 24 columns]"
      ]
     },
     "execution_count": 4,
     "metadata": {},
     "output_type": "execute_result"
    }
   ],
   "source": [
    "train.head()"
   ]
  },
  {
   "cell_type": "code",
   "execution_count": 5,
   "id": "8c4fda0f",
   "metadata": {
    "execution": {
     "iopub.execute_input": "2022-12-29T17:35:13.326529Z",
     "iopub.status.busy": "2022-12-29T17:35:13.325920Z",
     "iopub.status.idle": "2022-12-29T17:35:13.350728Z",
     "shell.execute_reply": "2022-12-29T17:35:13.349081Z"
    },
    "papermill": {
     "duration": 0.041725,
     "end_time": "2022-12-29T17:35:13.353841",
     "exception": false,
     "start_time": "2022-12-29T17:35:13.312116",
     "status": "completed"
    },
    "tags": []
   },
   "outputs": [
    {
     "data": {
      "text/html": [
       "<div>\n",
       "<style scoped>\n",
       "    .dataframe tbody tr th:only-of-type {\n",
       "        vertical-align: middle;\n",
       "    }\n",
       "\n",
       "    .dataframe tbody tr th {\n",
       "        vertical-align: top;\n",
       "    }\n",
       "\n",
       "    .dataframe thead th {\n",
       "        text-align: right;\n",
       "    }\n",
       "</style>\n",
       "<table border=\"1\" class=\"dataframe\">\n",
       "  <thead>\n",
       "    <tr style=\"text-align: right;\">\n",
       "      <th></th>\n",
       "      <th>id</th>\n",
       "      <th>Gender</th>\n",
       "      <th>Customer Type</th>\n",
       "      <th>Age</th>\n",
       "      <th>Type of Travel</th>\n",
       "      <th>Class</th>\n",
       "      <th>Flight Distance</th>\n",
       "      <th>Inflight wifi service</th>\n",
       "      <th>Departure/Arrival time convenient</th>\n",
       "      <th>Ease of Online booking</th>\n",
       "      <th>...</th>\n",
       "      <th>Seat comfort</th>\n",
       "      <th>Inflight entertainment</th>\n",
       "      <th>On-board service</th>\n",
       "      <th>Leg room service</th>\n",
       "      <th>Baggage handling</th>\n",
       "      <th>Checkin service</th>\n",
       "      <th>Inflight service</th>\n",
       "      <th>Cleanliness</th>\n",
       "      <th>Departure Delay in Minutes</th>\n",
       "      <th>Arrival Delay in Minutes</th>\n",
       "    </tr>\n",
       "  </thead>\n",
       "  <tbody>\n",
       "    <tr>\n",
       "      <th>0</th>\n",
       "      <td>1</td>\n",
       "      <td>Female</td>\n",
       "      <td>Loyal Customer</td>\n",
       "      <td>25</td>\n",
       "      <td>Personal Travel</td>\n",
       "      <td>Eco</td>\n",
       "      <td>2704</td>\n",
       "      <td>2</td>\n",
       "      <td>2</td>\n",
       "      <td>2</td>\n",
       "      <td>...</td>\n",
       "      <td>5</td>\n",
       "      <td>2</td>\n",
       "      <td>4</td>\n",
       "      <td>4</td>\n",
       "      <td>3</td>\n",
       "      <td>5</td>\n",
       "      <td>1</td>\n",
       "      <td>5</td>\n",
       "      <td>152</td>\n",
       "      <td>191.0</td>\n",
       "    </tr>\n",
       "    <tr>\n",
       "      <th>1</th>\n",
       "      <td>2</td>\n",
       "      <td>Female</td>\n",
       "      <td>Loyal Customer</td>\n",
       "      <td>49</td>\n",
       "      <td>Business travel</td>\n",
       "      <td>Business</td>\n",
       "      <td>1623</td>\n",
       "      <td>1</td>\n",
       "      <td>1</td>\n",
       "      <td>1</td>\n",
       "      <td>...</td>\n",
       "      <td>4</td>\n",
       "      <td>2</td>\n",
       "      <td>2</td>\n",
       "      <td>2</td>\n",
       "      <td>2</td>\n",
       "      <td>4</td>\n",
       "      <td>2</td>\n",
       "      <td>3</td>\n",
       "      <td>60</td>\n",
       "      <td>52.0</td>\n",
       "    </tr>\n",
       "    <tr>\n",
       "      <th>2</th>\n",
       "      <td>3</td>\n",
       "      <td>Male</td>\n",
       "      <td>Loyal Customer</td>\n",
       "      <td>51</td>\n",
       "      <td>Business travel</td>\n",
       "      <td>Business</td>\n",
       "      <td>338</td>\n",
       "      <td>4</td>\n",
       "      <td>4</td>\n",
       "      <td>4</td>\n",
       "      <td>...</td>\n",
       "      <td>5</td>\n",
       "      <td>5</td>\n",
       "      <td>5</td>\n",
       "      <td>5</td>\n",
       "      <td>5</td>\n",
       "      <td>4</td>\n",
       "      <td>5</td>\n",
       "      <td>4</td>\n",
       "      <td>0</td>\n",
       "      <td>0.0</td>\n",
       "    </tr>\n",
       "    <tr>\n",
       "      <th>3</th>\n",
       "      <td>4</td>\n",
       "      <td>Male</td>\n",
       "      <td>Loyal Customer</td>\n",
       "      <td>34</td>\n",
       "      <td>Business travel</td>\n",
       "      <td>Eco Plus</td>\n",
       "      <td>95</td>\n",
       "      <td>0</td>\n",
       "      <td>0</td>\n",
       "      <td>0</td>\n",
       "      <td>...</td>\n",
       "      <td>1</td>\n",
       "      <td>5</td>\n",
       "      <td>4</td>\n",
       "      <td>4</td>\n",
       "      <td>1</td>\n",
       "      <td>3</td>\n",
       "      <td>3</td>\n",
       "      <td>5</td>\n",
       "      <td>0</td>\n",
       "      <td>0.0</td>\n",
       "    </tr>\n",
       "    <tr>\n",
       "      <th>4</th>\n",
       "      <td>5</td>\n",
       "      <td>Male</td>\n",
       "      <td>Loyal Customer</td>\n",
       "      <td>34</td>\n",
       "      <td>Personal Travel</td>\n",
       "      <td>Eco</td>\n",
       "      <td>602</td>\n",
       "      <td>4</td>\n",
       "      <td>4</td>\n",
       "      <td>4</td>\n",
       "      <td>...</td>\n",
       "      <td>5</td>\n",
       "      <td>5</td>\n",
       "      <td>4</td>\n",
       "      <td>5</td>\n",
       "      <td>4</td>\n",
       "      <td>5</td>\n",
       "      <td>5</td>\n",
       "      <td>5</td>\n",
       "      <td>130</td>\n",
       "      <td>140.0</td>\n",
       "    </tr>\n",
       "  </tbody>\n",
       "</table>\n",
       "<p>5 rows × 23 columns</p>\n",
       "</div>"
      ],
      "text/plain": [
       "   id  Gender   Customer Type  Age   Type of Travel     Class  \\\n",
       "0   1  Female  Loyal Customer   25  Personal Travel       Eco   \n",
       "1   2  Female  Loyal Customer   49  Business travel  Business   \n",
       "2   3    Male  Loyal Customer   51  Business travel  Business   \n",
       "3   4    Male  Loyal Customer   34  Business travel  Eco Plus   \n",
       "4   5    Male  Loyal Customer   34  Personal Travel       Eco   \n",
       "\n",
       "   Flight Distance  Inflight wifi service  Departure/Arrival time convenient  \\\n",
       "0             2704                      2                                  2   \n",
       "1             1623                      1                                  1   \n",
       "2              338                      4                                  4   \n",
       "3               95                      0                                  0   \n",
       "4              602                      4                                  4   \n",
       "\n",
       "   Ease of Online booking  ...  Seat comfort  Inflight entertainment  \\\n",
       "0                       2  ...             5                       2   \n",
       "1                       1  ...             4                       2   \n",
       "2                       4  ...             5                       5   \n",
       "3                       0  ...             1                       5   \n",
       "4                       4  ...             5                       5   \n",
       "\n",
       "   On-board service  Leg room service  Baggage handling  Checkin service  \\\n",
       "0                 4                 4                 3                5   \n",
       "1                 2                 2                 2                4   \n",
       "2                 5                 5                 5                4   \n",
       "3                 4                 4                 1                3   \n",
       "4                 4                 5                 4                5   \n",
       "\n",
       "   Inflight service  Cleanliness  Departure Delay in Minutes  \\\n",
       "0                 1            5                         152   \n",
       "1                 2            3                          60   \n",
       "2                 5            4                           0   \n",
       "3                 3            5                           0   \n",
       "4                 5            5                         130   \n",
       "\n",
       "   Arrival Delay in Minutes  \n",
       "0                     191.0  \n",
       "1                      52.0  \n",
       "2                       0.0  \n",
       "3                       0.0  \n",
       "4                     140.0  \n",
       "\n",
       "[5 rows x 23 columns]"
      ]
     },
     "execution_count": 5,
     "metadata": {},
     "output_type": "execute_result"
    }
   ],
   "source": [
    "test.head()"
   ]
  },
  {
   "cell_type": "code",
   "execution_count": 6,
   "id": "a57a52a1",
   "metadata": {
    "execution": {
     "iopub.execute_input": "2022-12-29T17:35:13.380229Z",
     "iopub.status.busy": "2022-12-29T17:35:13.379583Z",
     "iopub.status.idle": "2022-12-29T17:35:13.389561Z",
     "shell.execute_reply": "2022-12-29T17:35:13.388024Z"
    },
    "papermill": {
     "duration": 0.026741,
     "end_time": "2022-12-29T17:35:13.392448",
     "exception": false,
     "start_time": "2022-12-29T17:35:13.365707",
     "status": "completed"
    },
    "tags": []
   },
   "outputs": [],
   "source": [
    "test_id=pd.DataFrame(test['id'])"
   ]
  },
  {
   "cell_type": "code",
   "execution_count": 7,
   "id": "767dee97",
   "metadata": {
    "execution": {
     "iopub.execute_input": "2022-12-29T17:35:13.420518Z",
     "iopub.status.busy": "2022-12-29T17:35:13.419998Z",
     "iopub.status.idle": "2022-12-29T17:35:13.434077Z",
     "shell.execute_reply": "2022-12-29T17:35:13.432795Z"
    },
    "papermill": {
     "duration": 0.031544,
     "end_time": "2022-12-29T17:35:13.436803",
     "exception": false,
     "start_time": "2022-12-29T17:35:13.405259",
     "status": "completed"
    },
    "tags": []
   },
   "outputs": [
    {
     "data": {
      "text/plain": [
       "id                                    0\n",
       "Gender                                0\n",
       "Customer Type                         0\n",
       "Age                                   0\n",
       "Type of Travel                        0\n",
       "Class                                 0\n",
       "Flight Distance                       0\n",
       "Inflight wifi service                 0\n",
       "Departure/Arrival time convenient     0\n",
       "Ease of Online booking                0\n",
       "Gate location                         0\n",
       "Food and drink                        0\n",
       "Online boarding                       0\n",
       "Seat comfort                          0\n",
       "Inflight entertainment                0\n",
       "On-board service                      0\n",
       "Leg room service                      0\n",
       "Baggage handling                      0\n",
       "Checkin service                       0\n",
       "Inflight service                      0\n",
       "Cleanliness                           0\n",
       "Departure Delay in Minutes            0\n",
       "Arrival Delay in Minutes             28\n",
       "satisfaction                          0\n",
       "dtype: int64"
      ]
     },
     "execution_count": 7,
     "metadata": {},
     "output_type": "execute_result"
    }
   ],
   "source": [
    "train.isnull().sum()"
   ]
  },
  {
   "cell_type": "code",
   "execution_count": 8,
   "id": "921803d7",
   "metadata": {
    "execution": {
     "iopub.execute_input": "2022-12-29T17:35:13.464771Z",
     "iopub.status.busy": "2022-12-29T17:35:13.463802Z",
     "iopub.status.idle": "2022-12-29T17:35:13.478128Z",
     "shell.execute_reply": "2022-12-29T17:35:13.476821Z"
    },
    "papermill": {
     "duration": 0.030943,
     "end_time": "2022-12-29T17:35:13.480544",
     "exception": false,
     "start_time": "2022-12-29T17:35:13.449601",
     "status": "completed"
    },
    "tags": []
   },
   "outputs": [
    {
     "data": {
      "text/plain": [
       "id                                    0\n",
       "Gender                                0\n",
       "Customer Type                         0\n",
       "Age                                   0\n",
       "Type of Travel                        0\n",
       "Class                                 0\n",
       "Flight Distance                       0\n",
       "Inflight wifi service                 0\n",
       "Departure/Arrival time convenient     0\n",
       "Ease of Online booking                0\n",
       "Gate location                         0\n",
       "Food and drink                        0\n",
       "Online boarding                       0\n",
       "Seat comfort                          0\n",
       "Inflight entertainment                0\n",
       "On-board service                      0\n",
       "Leg room service                      0\n",
       "Baggage handling                      0\n",
       "Checkin service                       0\n",
       "Inflight service                      0\n",
       "Cleanliness                           0\n",
       "Departure Delay in Minutes            0\n",
       "Arrival Delay in Minutes             19\n",
       "dtype: int64"
      ]
     },
     "execution_count": 8,
     "metadata": {},
     "output_type": "execute_result"
    }
   ],
   "source": [
    "test.isnull().sum()"
   ]
  },
  {
   "cell_type": "code",
   "execution_count": 9,
   "id": "58ba4a33",
   "metadata": {
    "execution": {
     "iopub.execute_input": "2022-12-29T17:35:13.508804Z",
     "iopub.status.busy": "2022-12-29T17:35:13.507867Z",
     "iopub.status.idle": "2022-12-29T17:35:13.534820Z",
     "shell.execute_reply": "2022-12-29T17:35:13.533361Z"
    },
    "papermill": {
     "duration": 0.044722,
     "end_time": "2022-12-29T17:35:13.537826",
     "exception": false,
     "start_time": "2022-12-29T17:35:13.493104",
     "status": "completed"
    },
    "tags": []
   },
   "outputs": [
    {
     "name": "stdout",
     "output_type": "stream",
     "text": [
      "<class 'pandas.core.frame.DataFrame'>\n",
      "RangeIndex: 10000 entries, 0 to 9999\n",
      "Data columns (total 24 columns):\n",
      " #   Column                             Non-Null Count  Dtype  \n",
      "---  ------                             --------------  -----  \n",
      " 0   id                                 10000 non-null  int64  \n",
      " 1   Gender                             10000 non-null  object \n",
      " 2   Customer Type                      10000 non-null  object \n",
      " 3   Age                                10000 non-null  int64  \n",
      " 4   Type of Travel                     10000 non-null  object \n",
      " 5   Class                              10000 non-null  object \n",
      " 6   Flight Distance                    10000 non-null  int64  \n",
      " 7   Inflight wifi service              10000 non-null  int64  \n",
      " 8   Departure/Arrival time convenient  10000 non-null  int64  \n",
      " 9   Ease of Online booking             10000 non-null  int64  \n",
      " 10  Gate location                      10000 non-null  int64  \n",
      " 11  Food and drink                     10000 non-null  int64  \n",
      " 12  Online boarding                    10000 non-null  int64  \n",
      " 13  Seat comfort                       10000 non-null  int64  \n",
      " 14  Inflight entertainment             10000 non-null  int64  \n",
      " 15  On-board service                   10000 non-null  int64  \n",
      " 16  Leg room service                   10000 non-null  int64  \n",
      " 17  Baggage handling                   10000 non-null  int64  \n",
      " 18  Checkin service                    10000 non-null  int64  \n",
      " 19  Inflight service                   10000 non-null  int64  \n",
      " 20  Cleanliness                        10000 non-null  int64  \n",
      " 21  Departure Delay in Minutes         10000 non-null  int64  \n",
      " 22  Arrival Delay in Minutes           9972 non-null   float64\n",
      " 23  satisfaction                       10000 non-null  int64  \n",
      "dtypes: float64(1), int64(19), object(4)\n",
      "memory usage: 1.8+ MB\n"
     ]
    }
   ],
   "source": [
    "train.info()"
   ]
  },
  {
   "cell_type": "code",
   "execution_count": 10,
   "id": "2ce69f66",
   "metadata": {
    "execution": {
     "iopub.execute_input": "2022-12-29T17:35:13.565189Z",
     "iopub.status.busy": "2022-12-29T17:35:13.564562Z",
     "iopub.status.idle": "2022-12-29T17:35:13.792204Z",
     "shell.execute_reply": "2022-12-29T17:35:13.790778Z"
    },
    "papermill": {
     "duration": 0.244606,
     "end_time": "2022-12-29T17:35:13.795047",
     "exception": false,
     "start_time": "2022-12-29T17:35:13.550441",
     "status": "completed"
    },
    "tags": []
   },
   "outputs": [
    {
     "data": {
      "image/png": "[encoded data removed]",
      "text/plain": [
       "<Figure size 576x360 with 1 Axes>"
      ]
     },
     "metadata": {
      "needs_background": "light"
     },
     "output_type": "display_data"
    }
   ],
   "source": [
    "plt.figure(figsize=(8,5))\n",
    "sns.countplot(x='Gender',data= train)\n",
    "plt.show()"
   ]
  },
  {
   "cell_type": "code",
   "execution_count": 11,
   "id": "54d7c3f7",
   "metadata": {
    "execution": {
     "iopub.execute_input": "2022-12-29T17:35:13.823435Z",
     "iopub.status.busy": "2022-12-29T17:35:13.823008Z",
     "iopub.status.idle": "2022-12-29T17:35:13.849076Z",
     "shell.execute_reply": "2022-12-29T17:35:13.847538Z"
    },
    "papermill": {
     "duration": 0.044059,
     "end_time": "2022-12-29T17:35:13.852406",
     "exception": false,
     "start_time": "2022-12-29T17:35:13.808347",
     "status": "completed"
    },
    "tags": []
   },
   "outputs": [],
   "source": [
    "train.replace({'Male':1,'Female':0},inplace=True)\n",
    "train.replace({'Male':1,'Female':0},inplace=True)\n",
    "train.replace({'Male':1,'Female':0},inplace=True)"
   ]
  },
  {
   "cell_type": "code",
   "execution_count": 12,
   "id": "82dac2e8",
   "metadata": {
    "execution": {
     "iopub.execute_input": "2022-12-29T17:35:13.879745Z",
     "iopub.status.busy": "2022-12-29T17:35:13.879286Z",
     "iopub.status.idle": "2022-12-29T17:35:14.084155Z",
     "shell.execute_reply": "2022-12-29T17:35:14.082795Z"
    },
    "papermill": {
     "duration": 0.221732,
     "end_time": "2022-12-29T17:35:14.087135",
     "exception": false,
     "start_time": "2022-12-29T17:35:13.865403",
     "status": "completed"
    },
    "tags": []
   },
   "outputs": [
    {
     "data": {
      "image/png": "[encoded data removed]",
      "text/plain": [
       "<Figure size 576x288 with 1 Axes>"
      ]
     },
     "metadata": {
      "needs_background": "light"
     },
     "output_type": "display_data"
    }
   ],
   "source": [
    "plt.figure(figsize=(8,4))\n",
    "sns.countplot(x='Customer Type',data= train)\n",
    "plt.show()"
   ]
  },
  {
   "cell_type": "code",
   "execution_count": 13,
   "id": "821d6cd5",
   "metadata": {
    "execution": {
     "iopub.execute_input": "2022-12-29T17:35:14.115081Z",
     "iopub.status.busy": "2022-12-29T17:35:14.114601Z",
     "iopub.status.idle": "2022-12-29T17:35:14.596717Z",
     "shell.execute_reply": "2022-12-29T17:35:14.595748Z"
    },
    "papermill": {
     "duration": 0.498567,
     "end_time": "2022-12-29T17:35:14.599049",
     "exception": false,
     "start_time": "2022-12-29T17:35:14.100482",
     "status": "completed"
    },
    "tags": []
   },
   "outputs": [
    {
     "data": {
      "image/png": "[encoded data removed]",
      "text/plain": [
       "<Figure size 576x288 with 1 Axes>"
      ]
     },
     "metadata": {
      "needs_background": "light"
     },
     "output_type": "display_data"
    }
   ],
   "source": [
    "plt.figure(figsize=(8,4))\n",
    "sns.barplot(x='Food and drink',y='satisfaction',data= train)\n",
    "plt.show()"
   ]
  },
  {
   "cell_type": "code",
   "execution_count": 14,
   "id": "bc574392",
   "metadata": {
    "execution": {
     "iopub.execute_input": "2022-12-29T17:35:14.626462Z",
     "iopub.status.busy": "2022-12-29T17:35:14.625861Z",
     "iopub.status.idle": "2022-12-29T17:35:15.019380Z",
     "shell.execute_reply": "2022-12-29T17:35:15.018073Z"
    },
    "papermill": {
     "duration": 0.410505,
     "end_time": "2022-12-29T17:35:15.022094",
     "exception": false,
     "start_time": "2022-12-29T17:35:14.611589",
     "status": "completed"
    },
    "tags": []
   },
   "outputs": [
    {
     "data": {
      "image/png": "[encoded data removed]",
      "text/plain": [
       "<Figure size 576x288 with 1 Axes>"
      ]
     },
     "metadata": {
      "needs_background": "light"
     },
     "output_type": "display_data"
    }
   ],
   "source": [
    "plt.figure(figsize=(8,4))\n",
    "sns.barplot(x= 'Class', y= 'satisfaction', data= train)\n",
    "plt.show()"
   ]
  },
  {
   "cell_type": "code",
   "execution_count": 15,
   "id": "44cb917f",
   "metadata": {
    "execution": {
     "iopub.execute_input": "2022-12-29T17:35:15.050466Z",
     "iopub.status.busy": "2022-12-29T17:35:15.050022Z",
     "iopub.status.idle": "2022-12-29T17:35:15.078090Z",
     "shell.execute_reply": "2022-12-29T17:35:15.076889Z"
    },
    "papermill": {
     "duration": 0.045719,
     "end_time": "2022-12-29T17:35:15.081247",
     "exception": false,
     "start_time": "2022-12-29T17:35:15.035528",
     "status": "completed"
    },
    "tags": []
   },
   "outputs": [
    {
     "data": {
      "text/html": [
       "<div>\n",
       "<style scoped>\n",
       "    .dataframe tbody tr th:only-of-type {\n",
       "        vertical-align: middle;\n",
       "    }\n",
       "\n",
       "    .dataframe tbody tr th {\n",
       "        vertical-align: top;\n",
       "    }\n",
       "\n",
       "    .dataframe thead th {\n",
       "        text-align: right;\n",
       "    }\n",
       "</style>\n",
       "<table border=\"1\" class=\"dataframe\">\n",
       "  <thead>\n",
       "    <tr style=\"text-align: right;\">\n",
       "      <th></th>\n",
       "      <th>id</th>\n",
       "      <th>Gender</th>\n",
       "      <th>Customer Type</th>\n",
       "      <th>Age</th>\n",
       "      <th>Type of Travel</th>\n",
       "      <th>Class</th>\n",
       "      <th>Flight Distance</th>\n",
       "      <th>Inflight wifi service</th>\n",
       "      <th>Departure/Arrival time convenient</th>\n",
       "      <th>Ease of Online booking</th>\n",
       "      <th>...</th>\n",
       "      <th>On-board service</th>\n",
       "      <th>Leg room service</th>\n",
       "      <th>Baggage handling</th>\n",
       "      <th>Checkin service</th>\n",
       "      <th>Inflight service</th>\n",
       "      <th>Cleanliness</th>\n",
       "      <th>Departure Delay in Minutes</th>\n",
       "      <th>Arrival Delay in Minutes</th>\n",
       "      <th>satisfaction</th>\n",
       "      <th>guruh</th>\n",
       "    </tr>\n",
       "  </thead>\n",
       "  <tbody>\n",
       "    <tr>\n",
       "      <th>0</th>\n",
       "      <td>1</td>\n",
       "      <td>1</td>\n",
       "      <td>disloyal Customer</td>\n",
       "      <td>33</td>\n",
       "      <td>Business travel</td>\n",
       "      <td>Eco</td>\n",
       "      <td>571</td>\n",
       "      <td>2</td>\n",
       "      <td>3</td>\n",
       "      <td>2</td>\n",
       "      <td>...</td>\n",
       "      <td>3</td>\n",
       "      <td>1</td>\n",
       "      <td>3</td>\n",
       "      <td>4</td>\n",
       "      <td>3</td>\n",
       "      <td>4</td>\n",
       "      <td>10</td>\n",
       "      <td>3.0</td>\n",
       "      <td>0</td>\n",
       "      <td>yoshlar</td>\n",
       "    </tr>\n",
       "    <tr>\n",
       "      <th>1</th>\n",
       "      <td>2</td>\n",
       "      <td>0</td>\n",
       "      <td>Loyal Customer</td>\n",
       "      <td>49</td>\n",
       "      <td>Business travel</td>\n",
       "      <td>Business</td>\n",
       "      <td>1431</td>\n",
       "      <td>4</td>\n",
       "      <td>1</td>\n",
       "      <td>4</td>\n",
       "      <td>...</td>\n",
       "      <td>5</td>\n",
       "      <td>5</td>\n",
       "      <td>5</td>\n",
       "      <td>3</td>\n",
       "      <td>5</td>\n",
       "      <td>3</td>\n",
       "      <td>0</td>\n",
       "      <td>0.0</td>\n",
       "      <td>1</td>\n",
       "      <td>kattalar</td>\n",
       "    </tr>\n",
       "    <tr>\n",
       "      <th>2</th>\n",
       "      <td>3</td>\n",
       "      <td>0</td>\n",
       "      <td>Loyal Customer</td>\n",
       "      <td>43</td>\n",
       "      <td>Business travel</td>\n",
       "      <td>Eco</td>\n",
       "      <td>867</td>\n",
       "      <td>1</td>\n",
       "      <td>4</td>\n",
       "      <td>4</td>\n",
       "      <td>...</td>\n",
       "      <td>1</td>\n",
       "      <td>1</td>\n",
       "      <td>1</td>\n",
       "      <td>1</td>\n",
       "      <td>1</td>\n",
       "      <td>2</td>\n",
       "      <td>0</td>\n",
       "      <td>18.0</td>\n",
       "      <td>0</td>\n",
       "      <td>kattalar</td>\n",
       "    </tr>\n",
       "    <tr>\n",
       "      <th>3</th>\n",
       "      <td>4</td>\n",
       "      <td>0</td>\n",
       "      <td>Loyal Customer</td>\n",
       "      <td>27</td>\n",
       "      <td>Business travel</td>\n",
       "      <td>Business</td>\n",
       "      <td>1550</td>\n",
       "      <td>3</td>\n",
       "      <td>3</td>\n",
       "      <td>3</td>\n",
       "      <td>...</td>\n",
       "      <td>4</td>\n",
       "      <td>4</td>\n",
       "      <td>5</td>\n",
       "      <td>5</td>\n",
       "      <td>4</td>\n",
       "      <td>2</td>\n",
       "      <td>0</td>\n",
       "      <td>0.0</td>\n",
       "      <td>1</td>\n",
       "      <td>yoshlar</td>\n",
       "    </tr>\n",
       "    <tr>\n",
       "      <th>4</th>\n",
       "      <td>5</td>\n",
       "      <td>1</td>\n",
       "      <td>Loyal Customer</td>\n",
       "      <td>11</td>\n",
       "      <td>Personal Travel</td>\n",
       "      <td>Eco</td>\n",
       "      <td>526</td>\n",
       "      <td>3</td>\n",
       "      <td>4</td>\n",
       "      <td>3</td>\n",
       "      <td>...</td>\n",
       "      <td>5</td>\n",
       "      <td>2</td>\n",
       "      <td>5</td>\n",
       "      <td>3</td>\n",
       "      <td>5</td>\n",
       "      <td>4</td>\n",
       "      <td>0</td>\n",
       "      <td>10.0</td>\n",
       "      <td>0</td>\n",
       "      <td>bolalar</td>\n",
       "    </tr>\n",
       "  </tbody>\n",
       "</table>\n",
       "<p>5 rows × 25 columns</p>\n",
       "</div>"
      ],
      "text/plain": [
       "   id  Gender      Customer Type  Age   Type of Travel     Class  \\\n",
       "0   1       1  disloyal Customer   33  Business travel       Eco   \n",
       "1   2       0     Loyal Customer   49  Business travel  Business   \n",
       "2   3       0     Loyal Customer   43  Business travel       Eco   \n",
       "3   4       0     Loyal Customer   27  Business travel  Business   \n",
       "4   5       1     Loyal Customer   11  Personal Travel       Eco   \n",
       "\n",
       "   Flight Distance  Inflight wifi service  Departure/Arrival time convenient  \\\n",
       "0              571                      2                                  3   \n",
       "1             1431                      4                                  1   \n",
       "2              867                      1                                  4   \n",
       "3             1550                      3                                  3   \n",
       "4              526                      3                                  4   \n",
       "\n",
       "   Ease of Online booking  ...  On-board service  Leg room service  \\\n",
       "0                       2  ...                 3                 1   \n",
       "1                       4  ...                 5                 5   \n",
       "2                       4  ...                 1                 1   \n",
       "3                       3  ...                 4                 4   \n",
       "4                       3  ...                 5                 2   \n",
       "\n",
       "   Baggage handling  Checkin service  Inflight service  Cleanliness  \\\n",
       "0                 3                4                 3            4   \n",
       "1                 5                3                 5            3   \n",
       "2                 1                1                 1            2   \n",
       "3                 5                5                 4            2   \n",
       "4                 5                3                 5            4   \n",
       "\n",
       "   Departure Delay in Minutes  Arrival Delay in Minutes  satisfaction  \\\n",
       "0                          10                       3.0             0   \n",
       "1                           0                       0.0             1   \n",
       "2                           0                      18.0             0   \n",
       "3                           0                       0.0             1   \n",
       "4                           0                      10.0             0   \n",
       "\n",
       "      guruh  \n",
       "0   yoshlar  \n",
       "1  kattalar  \n",
       "2  kattalar  \n",
       "3   yoshlar  \n",
       "4   bolalar  \n",
       "\n",
       "[5 rows x 25 columns]"
      ]
     },
     "execution_count": 15,
     "metadata": {},
     "output_type": "execute_result"
    }
   ],
   "source": [
    "bins=[0,18,33,55,81]\n",
    "guruh=['bolalar','yoshlar','kattalar','qariyalar']\n",
    "groups=pd.cut(train.Age,bins,labels=guruh)\n",
    "train['guruh']=groups\n",
    "train.head()"
   ]
  },
  {
   "cell_type": "code",
   "execution_count": 16,
   "id": "eb918772",
   "metadata": {
    "execution": {
     "iopub.execute_input": "2022-12-29T17:35:15.110818Z",
     "iopub.status.busy": "2022-12-29T17:35:15.110341Z",
     "iopub.status.idle": "2022-12-29T17:35:15.137205Z",
     "shell.execute_reply": "2022-12-29T17:35:15.135656Z"
    },
    "papermill": {
     "duration": 0.045037,
     "end_time": "2022-12-29T17:35:15.140147",
     "exception": false,
     "start_time": "2022-12-29T17:35:15.095110",
     "status": "completed"
    },
    "tags": []
   },
   "outputs": [
    {
     "data": {
      "text/plain": [
       "Gender                               0.002601\n",
       "id                                   0.002931\n",
       "Gate location                        0.007169\n",
       "Departure Delay in Minutes           0.042960\n",
       "Arrival Delay in Minutes             0.048650\n",
       "Departure/Arrival time convenient    0.067638\n",
       "Age                                  0.144302\n",
       "Ease of Online booking               0.164662\n",
       "Food and drink                       0.207854\n",
       "Checkin service                      0.232359\n",
       "Inflight service                     0.240584\n",
       "Baggage handling                     0.247965\n",
       "Inflight wifi service                0.277395\n",
       "Flight Distance                      0.298703\n",
       "Cleanliness                          0.310338\n",
       "Leg room service                     0.324368\n",
       "On-board service                     0.326426\n",
       "Seat comfort                         0.342294\n",
       "Inflight entertainment               0.400900\n",
       "Online boarding                      0.504986\n",
       "satisfaction                         1.000000\n",
       "dtype: float64"
      ]
     },
     "execution_count": 16,
     "metadata": {},
     "output_type": "execute_result"
    }
   ],
   "source": [
    "train.corrwith(train['satisfaction']).abs().sort_values()"
   ]
  },
  {
   "cell_type": "code",
   "execution_count": 17,
   "id": "2db9c061",
   "metadata": {
    "execution": {
     "iopub.execute_input": "2022-12-29T17:35:15.170235Z",
     "iopub.status.busy": "2022-12-29T17:35:15.169756Z",
     "iopub.status.idle": "2022-12-29T17:35:15.181671Z",
     "shell.execute_reply": "2022-12-29T17:35:15.180080Z"
    },
    "papermill": {
     "duration": 0.030626,
     "end_time": "2022-12-29T17:35:15.184578",
     "exception": false,
     "start_time": "2022-12-29T17:35:15.153952",
     "status": "completed"
    },
    "tags": []
   },
   "outputs": [],
   "source": [
    "train.drop('Gate location',axis=1,inplace=True)\n",
    "test.drop('Gate location',axis=1,inplace=True)"
   ]
  },
  {
   "cell_type": "code",
   "execution_count": 18,
   "id": "2a05e35e",
   "metadata": {
    "execution": {
     "iopub.execute_input": "2022-12-29T17:35:15.214378Z",
     "iopub.status.busy": "2022-12-29T17:35:15.213909Z",
     "iopub.status.idle": "2022-12-29T17:35:15.222350Z",
     "shell.execute_reply": "2022-12-29T17:35:15.221399Z"
    },
    "papermill": {
     "duration": 0.026333,
     "end_time": "2022-12-29T17:35:15.224779",
     "exception": false,
     "start_time": "2022-12-29T17:35:15.198446",
     "status": "completed"
    },
    "tags": []
   },
   "outputs": [],
   "source": [
    "train['Arrival Delay in Minutes'].fillna(train['Departure Delay in Minutes'],inplace=True)\n",
    "test['Arrival Delay in Minutes'].fillna(test['Departure Delay in Minutes'],inplace=True)"
   ]
  },
  {
   "cell_type": "code",
   "execution_count": 19,
   "id": "04fa9d46",
   "metadata": {
    "execution": {
     "iopub.execute_input": "2022-12-29T17:35:15.254479Z",
     "iopub.status.busy": "2022-12-29T17:35:15.254084Z",
     "iopub.status.idle": "2022-12-29T17:35:15.261731Z",
     "shell.execute_reply": "2022-12-29T17:35:15.260716Z"
    },
    "papermill": {
     "duration": 0.025839,
     "end_time": "2022-12-29T17:35:15.264499",
     "exception": false,
     "start_time": "2022-12-29T17:35:15.238660",
     "status": "completed"
    },
    "tags": []
   },
   "outputs": [
    {
     "data": {
      "text/plain": [
       "Index(['id', 'Gender', 'Customer Type', 'Age', 'Type of Travel', 'Class',\n",
       "       'Flight Distance', 'Inflight wifi service',\n",
       "       'Departure/Arrival time convenient', 'Ease of Online booking',\n",
       "       'Food and drink', 'Online boarding', 'Seat comfort',\n",
       "       'Inflight entertainment', 'On-board service', 'Leg room service',\n",
       "       'Baggage handling', 'Checkin service', 'Inflight service',\n",
       "       'Cleanliness', 'Departure Delay in Minutes', 'Arrival Delay in Minutes',\n",
       "       'satisfaction', 'guruh'],\n",
       "      dtype='object')"
      ]
     },
     "execution_count": 19,
     "metadata": {},
     "output_type": "execute_result"
    }
   ],
   "source": [
    "train.columns"
   ]
  },
  {
   "cell_type": "code",
   "execution_count": 20,
   "id": "40739dfc",
   "metadata": {
    "execution": {
     "iopub.execute_input": "2022-12-29T17:35:15.295759Z",
     "iopub.status.busy": "2022-12-29T17:35:15.295242Z",
     "iopub.status.idle": "2022-12-29T17:35:15.307334Z",
     "shell.execute_reply": "2022-12-29T17:35:15.305669Z"
    },
    "papermill": {
     "duration": 0.030983,
     "end_time": "2022-12-29T17:35:15.310117",
     "exception": false,
     "start_time": "2022-12-29T17:35:15.279134",
     "status": "completed"
    },
    "tags": []
   },
   "outputs": [],
   "source": [
    "train.drop('id',axis=1,inplace=True)\n",
    "test.drop('id',axis=1,inplace=True)"
   ]
  },
  {
   "cell_type": "code",
   "execution_count": 21,
   "id": "b37e1ebf",
   "metadata": {
    "execution": {
     "iopub.execute_input": "2022-12-29T17:35:15.340426Z",
     "iopub.status.busy": "2022-12-29T17:35:15.339996Z",
     "iopub.status.idle": "2022-12-29T17:35:15.351401Z",
     "shell.execute_reply": "2022-12-29T17:35:15.350515Z"
    },
    "papermill": {
     "duration": 0.02965,
     "end_time": "2022-12-29T17:35:15.353621",
     "exception": false,
     "start_time": "2022-12-29T17:35:15.323971",
     "status": "completed"
    },
    "tags": []
   },
   "outputs": [
    {
     "data": {
      "text/plain": [
       "Gender                               0\n",
       "Customer Type                        0\n",
       "Age                                  0\n",
       "Type of Travel                       0\n",
       "Class                                0\n",
       "Flight Distance                      0\n",
       "Inflight wifi service                0\n",
       "Departure/Arrival time convenient    0\n",
       "Ease of Online booking               0\n",
       "Food and drink                       0\n",
       "Online boarding                      0\n",
       "Seat comfort                         0\n",
       "Inflight entertainment               0\n",
       "On-board service                     0\n",
       "Leg room service                     0\n",
       "Baggage handling                     0\n",
       "Checkin service                      0\n",
       "Inflight service                     0\n",
       "Cleanliness                          0\n",
       "Departure Delay in Minutes           0\n",
       "Arrival Delay in Minutes             0\n",
       "satisfaction                         0\n",
       "guruh                                0\n",
       "dtype: int64"
      ]
     },
     "execution_count": 21,
     "metadata": {},
     "output_type": "execute_result"
    }
   ],
   "source": [
    "train.isnull().sum()"
   ]
  },
  {
   "cell_type": "code",
   "execution_count": 22,
   "id": "006c2792",
   "metadata": {
    "execution": {
     "iopub.execute_input": "2022-12-29T17:35:15.383834Z",
     "iopub.status.busy": "2022-12-29T17:35:15.383358Z",
     "iopub.status.idle": "2022-12-29T17:35:15.407795Z",
     "shell.execute_reply": "2022-12-29T17:35:15.406511Z"
    },
    "papermill": {
     "duration": 0.042992,
     "end_time": "2022-12-29T17:35:15.410663",
     "exception": false,
     "start_time": "2022-12-29T17:35:15.367671",
     "status": "completed"
    },
    "tags": []
   },
   "outputs": [
    {
     "data": {
      "text/html": [
       "<div>\n",
       "<style scoped>\n",
       "    .dataframe tbody tr th:only-of-type {\n",
       "        vertical-align: middle;\n",
       "    }\n",
       "\n",
       "    .dataframe tbody tr th {\n",
       "        vertical-align: top;\n",
       "    }\n",
       "\n",
       "    .dataframe thead th {\n",
       "        text-align: right;\n",
       "    }\n",
       "</style>\n",
       "<table border=\"1\" class=\"dataframe\">\n",
       "  <thead>\n",
       "    <tr style=\"text-align: right;\">\n",
       "      <th>satisfaction</th>\n",
       "      <th>0</th>\n",
       "      <th>1</th>\n",
       "    </tr>\n",
       "  </thead>\n",
       "  <tbody>\n",
       "    <tr>\n",
       "      <th>Gender</th>\n",
       "      <td>0.4844</td>\n",
       "      <td>0.4818</td>\n",
       "    </tr>\n",
       "    <tr>\n",
       "      <th>Age</th>\n",
       "      <td>37.2254</td>\n",
       "      <td>41.5248</td>\n",
       "    </tr>\n",
       "    <tr>\n",
       "      <th>Flight Distance</th>\n",
       "      <td>924.2128</td>\n",
       "      <td>1534.8996</td>\n",
       "    </tr>\n",
       "    <tr>\n",
       "      <th>Inflight wifi service</th>\n",
       "      <td>2.4022</td>\n",
       "      <td>3.1582</td>\n",
       "    </tr>\n",
       "    <tr>\n",
       "      <th>Departure/Arrival time convenient</th>\n",
       "      <td>3.1684</td>\n",
       "      <td>2.9618</td>\n",
       "    </tr>\n",
       "    <tr>\n",
       "      <th>Ease of Online booking</th>\n",
       "      <td>2.5638</td>\n",
       "      <td>3.0318</td>\n",
       "    </tr>\n",
       "    <tr>\n",
       "      <th>Food and drink</th>\n",
       "      <td>2.9374</td>\n",
       "      <td>3.4916</td>\n",
       "    </tr>\n",
       "    <tr>\n",
       "      <th>Online boarding</th>\n",
       "      <td>2.6660</td>\n",
       "      <td>4.0322</td>\n",
       "    </tr>\n",
       "    <tr>\n",
       "      <th>Seat comfort</th>\n",
       "      <td>3.0426</td>\n",
       "      <td>3.9402</td>\n",
       "    </tr>\n",
       "    <tr>\n",
       "      <th>Inflight entertainment</th>\n",
       "      <td>2.8690</td>\n",
       "      <td>3.9368</td>\n",
       "    </tr>\n",
       "    <tr>\n",
       "      <th>On-board service</th>\n",
       "      <td>3.0380</td>\n",
       "      <td>3.8702</td>\n",
       "    </tr>\n",
       "    <tr>\n",
       "      <th>Leg room service</th>\n",
       "      <td>2.9912</td>\n",
       "      <td>3.8402</td>\n",
       "    </tr>\n",
       "    <tr>\n",
       "      <th>Baggage handling</th>\n",
       "      <td>3.3812</td>\n",
       "      <td>3.9712</td>\n",
       "    </tr>\n",
       "    <tr>\n",
       "      <th>Checkin service</th>\n",
       "      <td>3.0682</td>\n",
       "      <td>3.6530</td>\n",
       "    </tr>\n",
       "    <tr>\n",
       "      <th>Inflight service</th>\n",
       "      <td>3.3974</td>\n",
       "      <td>3.9628</td>\n",
       "    </tr>\n",
       "    <tr>\n",
       "      <th>Cleanliness</th>\n",
       "      <td>2.9042</td>\n",
       "      <td>3.7180</td>\n",
       "    </tr>\n",
       "    <tr>\n",
       "      <th>Departure Delay in Minutes</th>\n",
       "      <td>16.1336</td>\n",
       "      <td>12.7262</td>\n",
       "    </tr>\n",
       "    <tr>\n",
       "      <th>Arrival Delay in Minutes</th>\n",
       "      <td>16.7480</td>\n",
       "      <td>12.8826</td>\n",
       "    </tr>\n",
       "  </tbody>\n",
       "</table>\n",
       "</div>"
      ],
      "text/plain": [
       "satisfaction                              0          1\n",
       "Gender                               0.4844     0.4818\n",
       "Age                                 37.2254    41.5248\n",
       "Flight Distance                    924.2128  1534.8996\n",
       "Inflight wifi service                2.4022     3.1582\n",
       "Departure/Arrival time convenient    3.1684     2.9618\n",
       "Ease of Online booking               2.5638     3.0318\n",
       "Food and drink                       2.9374     3.4916\n",
       "Online boarding                      2.6660     4.0322\n",
       "Seat comfort                         3.0426     3.9402\n",
       "Inflight entertainment               2.8690     3.9368\n",
       "On-board service                     3.0380     3.8702\n",
       "Leg room service                     2.9912     3.8402\n",
       "Baggage handling                     3.3812     3.9712\n",
       "Checkin service                      3.0682     3.6530\n",
       "Inflight service                     3.3974     3.9628\n",
       "Cleanliness                          2.9042     3.7180\n",
       "Departure Delay in Minutes          16.1336    12.7262\n",
       "Arrival Delay in Minutes            16.7480    12.8826"
      ]
     },
     "execution_count": 22,
     "metadata": {},
     "output_type": "execute_result"
    }
   ],
   "source": [
    "train.groupby('satisfaction').mean().T"
   ]
  },
  {
   "cell_type": "markdown",
   "id": "fcf4db5b",
   "metadata": {
    "papermill": {
     "duration": 0.014391,
     "end_time": "2022-12-29T17:35:15.439700",
     "exception": false,
     "start_time": "2022-12-29T17:35:15.425309",
     "status": "completed"
    },
    "tags": []
   },
   "source": [
    "# Machine Learning"
   ]
  },
  {
   "cell_type": "code",
   "execution_count": 23,
   "id": "13ad7d93",
   "metadata": {
    "execution": {
     "iopub.execute_input": "2022-12-29T17:35:15.473650Z",
     "iopub.status.busy": "2022-12-29T17:35:15.473231Z",
     "iopub.status.idle": "2022-12-29T17:35:15.480308Z",
     "shell.execute_reply": "2022-12-29T17:35:15.479450Z"
    },
    "papermill": {
     "duration": 0.025704,
     "end_time": "2022-12-29T17:35:15.482530",
     "exception": false,
     "start_time": "2022-12-29T17:35:15.456826",
     "status": "completed"
    },
    "tags": []
   },
   "outputs": [],
   "source": [
    "X=train.drop('satisfaction',axis=1)\n",
    "y=np.asanyarray(train[['satisfaction']])"
   ]
  },
  {
   "cell_type": "code",
   "execution_count": 24,
   "id": "af407137",
   "metadata": {
    "execution": {
     "iopub.execute_input": "2022-12-29T17:35:15.513464Z",
     "iopub.status.busy": "2022-12-29T17:35:15.512703Z",
     "iopub.status.idle": "2022-12-29T17:35:15.518747Z",
     "shell.execute_reply": "2022-12-29T17:35:15.517794Z"
    },
    "papermill": {
     "duration": 0.024328,
     "end_time": "2022-12-29T17:35:15.521261",
     "exception": false,
     "start_time": "2022-12-29T17:35:15.496933",
     "status": "completed"
    },
    "tags": []
   },
   "outputs": [],
   "source": [
    "cat_attr=[ 'Gender','Customer Type','Type of Travel', 'Class']\n",
    "num_attr=[ 'Flight Distance', 'Inflight wifi service',\n",
    "       'Departure/Arrival time convenient', 'Ease of Online booking',\n",
    "        'Food and drink', 'Online boarding', 'Seat comfort',\n",
    "       'Inflight entertainment', 'On-board service', 'Leg room service',\n",
    "       'Baggage handling', 'Checkin service', 'Inflight service',\n",
    "       'Cleanliness', 'Departure Delay in Minutes', 'Arrival Delay in Minutes']\n",
    "\n",
    "full_pip=ColumnTransformer([\n",
    "    ('num',StandardScaler(),num_attr),\n",
    "    ('cat',OrdinalEncoder(),cat_attr)\n",
    "])"
   ]
  },
  {
   "cell_type": "code",
   "execution_count": 25,
   "id": "a10350d8",
   "metadata": {
    "execution": {
     "iopub.execute_input": "2022-12-29T17:35:15.552888Z",
     "iopub.status.busy": "2022-12-29T17:35:15.552436Z",
     "iopub.status.idle": "2022-12-29T17:35:15.581042Z",
     "shell.execute_reply": "2022-12-29T17:35:15.580005Z"
    },
    "papermill": {
     "duration": 0.048142,
     "end_time": "2022-12-29T17:35:15.584084",
     "exception": false,
     "start_time": "2022-12-29T17:35:15.535942",
     "status": "completed"
    },
    "tags": []
   },
   "outputs": [],
   "source": [
    "x=full_pip.fit_transform(X)"
   ]
  },
  {
   "cell_type": "code",
   "execution_count": 26,
   "id": "516404ef",
   "metadata": {
    "execution": {
     "iopub.execute_input": "2022-12-29T17:35:15.616260Z",
     "iopub.status.busy": "2022-12-29T17:35:15.615441Z",
     "iopub.status.idle": "2022-12-29T17:35:15.636629Z",
     "shell.execute_reply": "2022-12-29T17:35:15.635205Z"
    },
    "papermill": {
     "duration": 0.041088,
     "end_time": "2022-12-29T17:35:15.639552",
     "exception": false,
     "start_time": "2022-12-29T17:35:15.598464",
     "status": "completed"
    },
    "tags": []
   },
   "outputs": [],
   "source": [
    "x_test=full_pip.fit_transform(test)"
   ]
  },
  {
   "cell_type": "code",
   "execution_count": 27,
   "id": "c533a007",
   "metadata": {
    "execution": {
     "iopub.execute_input": "2022-12-29T17:35:15.672490Z",
     "iopub.status.busy": "2022-12-29T17:35:15.671953Z",
     "iopub.status.idle": "2022-12-29T17:35:15.681195Z",
     "shell.execute_reply": "2022-12-29T17:35:15.680238Z"
    },
    "papermill": {
     "duration": 0.028593,
     "end_time": "2022-12-29T17:35:15.683733",
     "exception": false,
     "start_time": "2022-12-29T17:35:15.655140",
     "status": "completed"
    },
    "tags": []
   },
   "outputs": [],
   "source": [
    "x_train,x_val,y_train,y_val=train_test_split(x,y,test_size=0.25,random_state=41)"
   ]
  },
  {
   "cell_type": "code",
   "execution_count": 28,
   "id": "74288d65",
   "metadata": {
    "execution": {
     "iopub.execute_input": "2022-12-29T17:35:15.714979Z",
     "iopub.status.busy": "2022-12-29T17:35:15.713750Z",
     "iopub.status.idle": "2022-12-29T17:35:20.970812Z",
     "shell.execute_reply": "2022-12-29T17:35:20.969326Z"
    },
    "papermill": {
     "duration": 5.275329,
     "end_time": "2022-12-29T17:35:20.973827",
     "exception": false,
     "start_time": "2022-12-29T17:35:15.698498",
     "status": "completed"
    },
    "tags": []
   },
   "outputs": [
    {
     "name": "stderr",
     "output_type": "stream",
     "text": [
      "/opt/conda/lib/python3.7/site-packages/ipykernel_launcher.py:4: DataConversionWarning: A column-vector y was passed when a 1d array was expected. Please change the shape of y to (n_samples,), for example using ravel().\n",
      "  after removing the cwd from sys.path.\n"
     ]
    },
    {
     "name": "stdout",
     "output_type": "stream",
     "text": [
      "0.9508\n"
     ]
    },
    {
     "name": "stderr",
     "output_type": "stream",
     "text": [
      "/opt/conda/lib/python3.7/site-packages/ipykernel_launcher.py:4: DataConversionWarning: A column-vector y was passed when a 1d array was expected. Please change the shape of y to (n_samples,), for example using ravel().\n",
      "  after removing the cwd from sys.path.\n"
     ]
    },
    {
     "name": "stdout",
     "output_type": "stream",
     "text": [
      "0.952\n"
     ]
    },
    {
     "name": "stderr",
     "output_type": "stream",
     "text": [
      "/opt/conda/lib/python3.7/site-packages/ipykernel_launcher.py:4: DataConversionWarning: A column-vector y was passed when a 1d array was expected. Please change the shape of y to (n_samples,), for example using ravel().\n",
      "  after removing the cwd from sys.path.\n"
     ]
    },
    {
     "name": "stdout",
     "output_type": "stream",
     "text": [
      "0.9496\n"
     ]
    },
    {
     "name": "stderr",
     "output_type": "stream",
     "text": [
      "/opt/conda/lib/python3.7/site-packages/ipykernel_launcher.py:4: DataConversionWarning: A column-vector y was passed when a 1d array was expected. Please change the shape of y to (n_samples,), for example using ravel().\n",
      "  after removing the cwd from sys.path.\n"
     ]
    },
    {
     "name": "stdout",
     "output_type": "stream",
     "text": [
      "0.952\n"
     ]
    },
    {
     "name": "stderr",
     "output_type": "stream",
     "text": [
      "/opt/conda/lib/python3.7/site-packages/ipykernel_launcher.py:4: DataConversionWarning: A column-vector y was passed when a 1d array was expected. Please change the shape of y to (n_samples,), for example using ravel().\n",
      "  after removing the cwd from sys.path.\n"
     ]
    },
    {
     "name": "stdout",
     "output_type": "stream",
     "text": [
      "0.9512\n"
     ]
    }
   ],
   "source": [
    "javob = []\n",
    "for N in range(5):\n",
    "    model = RandomForestClassifier(random_state=N, n_jobs=6, n_estimators=126)\n",
    "    model.fit(x_train, y_train)\n",
    "    preds_valid = model.predict(x_val)\n",
    "    test_preds = model.predict(x_test)\n",
    "    javob.append(test_preds)\n",
    "    print(accuracy_score(y_val, preds_valid))"
   ]
  },
  {
   "cell_type": "markdown",
   "id": "3ab970fc",
   "metadata": {
    "papermill": {
     "duration": 0.015143,
     "end_time": "2022-12-29T17:35:21.005195",
     "exception": false,
     "start_time": "2022-12-29T17:35:20.990052",
     "status": "completed"
    },
    "tags": []
   },
   "source": [
    "# "
   ]
  },
  {
   "cell_type": "code",
   "execution_count": 29,
   "id": "ae9bbbff",
   "metadata": {
    "execution": {
     "iopub.execute_input": "2022-12-29T17:35:21.038597Z",
     "iopub.status.busy": "2022-12-29T17:35:21.037210Z",
     "iopub.status.idle": "2022-12-29T17:35:22.048691Z",
     "shell.execute_reply": "2022-12-29T17:35:22.047403Z"
    },
    "papermill": {
     "duration": 1.031191,
     "end_time": "2022-12-29T17:35:22.051723",
     "exception": false,
     "start_time": "2022-12-29T17:35:21.020532",
     "status": "completed"
    },
    "tags": []
   },
   "outputs": [
    {
     "name": "stderr",
     "output_type": "stream",
     "text": [
      "/opt/conda/lib/python3.7/site-packages/ipykernel_launcher.py:2: DataConversionWarning: A column-vector y was passed when a 1d array was expected. Please change the shape of y to (n_samples,), for example using ravel().\n",
      "  \n"
     ]
    }
   ],
   "source": [
    "RF_model=RandomForestClassifier()\n",
    "RF_model.fit(x_train,y_train)\n",
    "y_RF=RF_model.predict(x_val)"
   ]
  },
  {
   "cell_type": "code",
   "execution_count": 30,
   "id": "478c5527",
   "metadata": {
    "execution": {
     "iopub.execute_input": "2022-12-29T17:35:22.083600Z",
     "iopub.status.busy": "2022-12-29T17:35:22.083176Z",
     "iopub.status.idle": "2022-12-29T17:35:22.092238Z",
     "shell.execute_reply": "2022-12-29T17:35:22.090947Z"
    },
    "papermill": {
     "duration": 0.028,
     "end_time": "2022-12-29T17:35:22.094917",
     "exception": false,
     "start_time": "2022-12-29T17:35:22.066917",
     "status": "completed"
    },
    "tags": []
   },
   "outputs": [
    {
     "data": {
      "text/plain": [
       "0.9524"
      ]
     },
     "execution_count": 30,
     "metadata": {},
     "output_type": "execute_result"
    }
   ],
   "source": [
    "accuracy_score(y_val,y_RF)"
   ]
  },
  {
   "cell_type": "code",
   "execution_count": 31,
   "id": "eea490fa",
   "metadata": {
    "execution": {
     "iopub.execute_input": "2022-12-29T17:35:22.129570Z",
     "iopub.status.busy": "2022-12-29T17:35:22.129098Z",
     "iopub.status.idle": "2022-12-29T17:35:22.398640Z",
     "shell.execute_reply": "2022-12-29T17:35:22.397343Z"
    },
    "papermill": {
     "duration": 0.291124,
     "end_time": "2022-12-29T17:35:22.401906",
     "exception": false,
     "start_time": "2022-12-29T17:35:22.110782",
     "status": "completed"
    },
    "tags": []
   },
   "outputs": [
    {
     "data": {
      "text/plain": [
       "<AxesSubplot:>"
      ]
     },
     "execution_count": 31,
     "metadata": {},
     "output_type": "execute_result"
    },
    {
     "data": {
      "image/png": "[encoded data removed]",
      "text/plain": [
       "<Figure size 432x288 with 2 Axes>"
      ]
     },
     "metadata": {
      "needs_background": "light"
     },
     "output_type": "display_data"
    }
   ],
   "source": [
    "sns.heatmap(confusion_matrix(y_val,y_RF),annot=True)"
   ]
  },
  {
   "cell_type": "code",
   "execution_count": 32,
   "id": "6dabc850",
   "metadata": {
    "execution": {
     "iopub.execute_input": "2022-12-29T17:35:22.436198Z",
     "iopub.status.busy": "2022-12-29T17:35:22.435780Z",
     "iopub.status.idle": "2022-12-29T17:35:22.483324Z",
     "shell.execute_reply": "2022-12-29T17:35:22.482040Z"
    },
    "papermill": {
     "duration": 0.06844,
     "end_time": "2022-12-29T17:35:22.486338",
     "exception": false,
     "start_time": "2022-12-29T17:35:22.417898",
     "status": "completed"
    },
    "tags": []
   },
   "outputs": [],
   "source": [
    "tree_model=DecisionTreeClassifier()\n",
    "tree_model.fit(x_train,y_train)\n",
    "y_tree=tree_model.predict(x_val)"
   ]
  },
  {
   "cell_type": "code",
   "execution_count": 33,
   "id": "397955c1",
   "metadata": {
    "execution": {
     "iopub.execute_input": "2022-12-29T17:35:22.520247Z",
     "iopub.status.busy": "2022-12-29T17:35:22.519530Z",
     "iopub.status.idle": "2022-12-29T17:35:22.528388Z",
     "shell.execute_reply": "2022-12-29T17:35:22.526780Z"
    },
    "papermill": {
     "duration": 0.02942,
     "end_time": "2022-12-29T17:35:22.531357",
     "exception": false,
     "start_time": "2022-12-29T17:35:22.501937",
     "status": "completed"
    },
    "tags": []
   },
   "outputs": [
    {
     "data": {
      "text/plain": [
       "0.9332"
      ]
     },
     "execution_count": 33,
     "metadata": {},
     "output_type": "execute_result"
    }
   ],
   "source": [
    "accuracy_score(y_val,y_tree)"
   ]
  },
  {
   "cell_type": "markdown",
   "id": "fd576ef6",
   "metadata": {
    "papermill": {
     "duration": 0.015428,
     "end_time": "2022-12-29T17:35:22.562500",
     "exception": false,
     "start_time": "2022-12-29T17:35:22.547072",
     "status": "completed"
    },
    "tags": []
   },
   "source": [
    "# svc"
   ]
  },
  {
   "cell_type": "code",
   "execution_count": 34,
   "id": "2e873d4a",
   "metadata": {
    "execution": {
     "iopub.execute_input": "2022-12-29T17:35:22.597440Z",
     "iopub.status.busy": "2022-12-29T17:35:22.596462Z",
     "iopub.status.idle": "2022-12-29T17:35:24.429421Z",
     "shell.execute_reply": "2022-12-29T17:35:24.428111Z"
    },
    "papermill": {
     "duration": 1.853019,
     "end_time": "2022-12-29T17:35:24.432016",
     "exception": false,
     "start_time": "2022-12-29T17:35:22.578997",
     "status": "completed"
    },
    "tags": []
   },
   "outputs": [
    {
     "name": "stderr",
     "output_type": "stream",
     "text": [
      "/opt/conda/lib/python3.7/site-packages/sklearn/utils/validation.py:993: DataConversionWarning: A column-vector y was passed when a 1d array was expected. Please change the shape of y to (n_samples, ), for example using ravel().\n",
      "  y = column_or_1d(y, warn=True)\n"
     ]
    },
    {
     "name": "stdout",
     "output_type": "stream",
     "text": [
      "              precision    recall  f1-score   support\n",
      "\n",
      "           0       0.92      0.95      0.94      1195\n",
      "           1       0.95      0.93      0.94      1305\n",
      "\n",
      "    accuracy                           0.94      2500\n",
      "   macro avg       0.94      0.94      0.94      2500\n",
      "weighted avg       0.94      0.94      0.94      2500\n",
      "\n",
      "Model aniqligi: 0.9376\n"
     ]
    },
    {
     "data": {
      "image/png": "[encoded data removed]",
      "text/plain": [
       "<Figure size 432x288 with 2 Axes>"
      ]
     },
     "metadata": {
      "needs_background": "light"
     },
     "output_type": "display_data"
    },
    {
     "data": {
      "image/png": "[encoded data removed]",
      "text/plain": [
       "<Figure size 432x288 with 1 Axes>"
      ]
     },
     "metadata": {
      "needs_background": "light"
     },
     "output_type": "display_data"
    }
   ],
   "source": [
    "# Modelni yaratamiz (training)\n",
    "svm_model = SVC()\n",
    "svm_model.fit(x_train, y_train)\n",
    "\n",
    "# Modelni baholaymiz\n",
    "\n",
    "y_pred = svm_model.predict(x_val)\n",
    "print(classification_report(y_val, y_pred))\n",
    "print(\"Model aniqligi:\", accuracy_score(y_val,y_pred))\n",
    "\n",
    "## confusion matrix\n",
    "conf_mat = metrics.confusion_matrix(y_val, y_pred)\n",
    "sns.heatmap(conf_mat, annot=True,fmt=\"g\")\n",
    "plt.show()\n",
    "\n",
    "## ROC curve\n",
    "fpr, tpr, thresholds = metrics.roc_curve(y_val, y_pred)\n",
    "roc_auc = metrics.auc(fpr, tpr)\n",
    "display = metrics.RocCurveDisplay(fpr=fpr, tpr=tpr, roc_auc=roc_auc, estimator_name='ROC curve')\n",
    "display.plot()\n",
    "plt.show()"
   ]
  },
  {
   "cell_type": "markdown",
   "id": "4250612a",
   "metadata": {
    "papermill": {
     "duration": 0.015599,
     "end_time": "2022-12-29T17:35:24.463548",
     "exception": false,
     "start_time": "2022-12-29T17:35:24.447949",
     "status": "completed"
    },
    "tags": []
   },
   "source": [
    "# Logistic regression"
   ]
  },
  {
   "cell_type": "code",
   "execution_count": 35,
   "id": "4e690b60",
   "metadata": {
    "execution": {
     "iopub.execute_input": "2022-12-29T17:35:24.499057Z",
     "iopub.status.busy": "2022-12-29T17:35:24.498354Z",
     "iopub.status.idle": "2022-12-29T17:35:25.090729Z",
     "shell.execute_reply": "2022-12-29T17:35:25.089425Z"
    },
    "papermill": {
     "duration": 0.614468,
     "end_time": "2022-12-29T17:35:25.094205",
     "exception": false,
     "start_time": "2022-12-29T17:35:24.479737",
     "status": "completed"
    },
    "tags": []
   },
   "outputs": [
    {
     "name": "stderr",
     "output_type": "stream",
     "text": [
      "/opt/conda/lib/python3.7/site-packages/sklearn/utils/validation.py:993: DataConversionWarning: A column-vector y was passed when a 1d array was expected. Please change the shape of y to (n_samples, ), for example using ravel().\n",
      "  y = column_or_1d(y, warn=True)\n"
     ]
    },
    {
     "name": "stdout",
     "output_type": "stream",
     "text": [
      "              precision    recall  f1-score   support\n",
      "\n",
      "           0       0.85      0.87      0.86      1195\n",
      "           1       0.88      0.86      0.87      1305\n",
      "\n",
      "    accuracy                           0.87      2500\n",
      "   macro avg       0.87      0.87      0.87      2500\n",
      "weighted avg       0.87      0.87      0.87      2500\n",
      "\n",
      "Model aniqligi: 0.8672\n"
     ]
    },
    {
     "data": {
      "image/png": "[encoded data removed]",
      "text/plain": [
       "<Figure size 432x288 with 2 Axes>"
      ]
     },
     "metadata": {
      "needs_background": "light"
     },
     "output_type": "display_data"
    },
    {
     "data": {
      "image/png": "[encoded data removed]",
      "text/plain": [
       "<Figure size 432x288 with 1 Axes>"
      ]
     },
     "metadata": {
      "needs_background": "light"
     },
     "output_type": "display_data"
    }
   ],
   "source": [
    "LR_model = LogisticRegression()\n",
    "LR_model.fit(x_train, y_train)\n",
    "\n",
    "# Modelni baholaymiz\n",
    "y_pred = LR_model.predict(x_val)\n",
    "print(metrics.classification_report(y_val, y_pred))\n",
    "print(\"Model aniqligi:\", metrics.accuracy_score(y_val,y_pred))\n",
    "\n",
    "## confusion matrix\n",
    "conf_mat = metrics.confusion_matrix(y_val, y_pred)\n",
    "sns.heatmap(conf_mat, annot=True,fmt=\"g\")\n",
    "plt.show()\n",
    "\n",
    "## ROC curve\n",
    "fpr, tpr, thresholds = metrics.roc_curve(y_val, y_pred)\n",
    "roc_auc = metrics.auc(fpr, tpr)\n",
    "display = metrics.RocCurveDisplay(fpr=fpr, tpr=tpr, roc_auc=roc_auc, estimator_name='ROC curve')\n",
    "display.plot()\n",
    "plt.show()"
   ]
  },
  {
   "cell_type": "markdown",
   "id": "1363eadb",
   "metadata": {
    "papermill": {
     "duration": 0.015871,
     "end_time": "2022-12-29T17:35:25.127336",
     "exception": false,
     "start_time": "2022-12-29T17:35:25.111465",
     "status": "completed"
    },
    "tags": []
   },
   "source": [
    "# Random Forest"
   ]
  },
  {
   "cell_type": "code",
   "execution_count": 36,
   "id": "2f6d2644",
   "metadata": {
    "execution": {
     "iopub.execute_input": "2022-12-29T17:35:25.161812Z",
     "iopub.status.busy": "2022-12-29T17:35:25.161281Z",
     "iopub.status.idle": "2022-12-29T17:35:25.806518Z",
     "shell.execute_reply": "2022-12-29T17:35:25.805524Z"
    },
    "papermill": {
     "duration": 0.665456,
     "end_time": "2022-12-29T17:35:25.808937",
     "exception": false,
     "start_time": "2022-12-29T17:35:25.143481",
     "status": "completed"
    },
    "tags": []
   },
   "outputs": [
    {
     "name": "stderr",
     "output_type": "stream",
     "text": [
      "/opt/conda/lib/python3.7/site-packages/ipykernel_launcher.py:3: DataConversionWarning: A column-vector y was passed when a 1d array was expected. Please change the shape of y to (n_samples,), for example using ravel().\n",
      "  This is separate from the ipykernel package so we can avoid doing imports until\n"
     ]
    },
    {
     "name": "stdout",
     "output_type": "stream",
     "text": [
      "              precision    recall  f1-score   support\n",
      "\n",
      "           0       0.93      0.95      0.94      1195\n",
      "           1       0.95      0.94      0.95      1305\n",
      "\n",
      "    accuracy                           0.94      2500\n",
      "   macro avg       0.94      0.94      0.94      2500\n",
      "weighted avg       0.94      0.94      0.94      2500\n",
      "\n",
      "Model aniqligi: 0.9432\n"
     ]
    },
    {
     "data": {
      "image/png": "[encoded data removed]",
      "text/plain": [
       "<Figure size 432x288 with 2 Axes>"
      ]
     },
     "metadata": {
      "needs_background": "light"
     },
     "output_type": "display_data"
    },
    {
     "data": {
      "image/png": "[encoded data removed]",
      "text/plain": [
       "<Figure size 432x288 with 1 Axes>"
      ]
     },
     "metadata": {
      "needs_background": "light"
     },
     "output_type": "display_data"
    }
   ],
   "source": [
    "# Modelni yaratamiz (training)\n",
    "RF_model = RandomForestClassifier(n_estimators=9)\n",
    "RF_model.fit(x_train, y_train)\n",
    "\n",
    "# Modelni baholaymiz\n",
    "y_pred = RF_model.predict(x_val)\n",
    "print(classification_report(y_val, y_pred))\n",
    "print(\"Model aniqligi:\", accuracy_score(y_val,y_pred))\n",
    "\n",
    "## confusion matrix\n",
    "conf_mat = metrics.confusion_matrix(y_val, y_pred)\n",
    "sns.heatmap(conf_mat, annot=True,fmt=\"g\")\n",
    "plt.show()\n",
    "\n",
    "## ROC curve\n",
    "fpr, tpr, thresholds = metrics.roc_curve(y_val, y_pred)\n",
    "roc_auc = metrics.auc(fpr, tpr)\n",
    "display = metrics.RocCurveDisplay(fpr=fpr, tpr=tpr, roc_auc=roc_auc, estimator_name='ROC curve')\n",
    "display.plot()\n",
    "plt.show()"
   ]
  },
  {
   "cell_type": "markdown",
   "id": "7d2332b6",
   "metadata": {
    "papermill": {
     "duration": 0.018147,
     "end_time": "2022-12-29T17:35:25.845006",
     "exception": false,
     "start_time": "2022-12-29T17:35:25.826859",
     "status": "completed"
    },
    "tags": []
   },
   "source": [
    "# xg boost"
   ]
  },
  {
   "cell_type": "code",
   "execution_count": 37,
   "id": "ed85bdc2",
   "metadata": {
    "execution": {
     "iopub.execute_input": "2022-12-29T17:35:25.884289Z",
     "iopub.status.busy": "2022-12-29T17:35:25.882655Z",
     "iopub.status.idle": "2022-12-29T17:35:27.248594Z",
     "shell.execute_reply": "2022-12-29T17:35:27.247386Z"
    },
    "papermill": {
     "duration": 1.388435,
     "end_time": "2022-12-29T17:35:27.251454",
     "exception": false,
     "start_time": "2022-12-29T17:35:25.863019",
     "status": "completed"
    },
    "tags": []
   },
   "outputs": [
    {
     "name": "stdout",
     "output_type": "stream",
     "text": [
      "              precision    recall  f1-score   support\n",
      "\n",
      "           0       0.93      0.96      0.94      1195\n",
      "           1       0.96      0.94      0.95      1305\n",
      "\n",
      "    accuracy                           0.95      2500\n",
      "   macro avg       0.95      0.95      0.95      2500\n",
      "weighted avg       0.95      0.95      0.95      2500\n",
      "\n",
      "Model aniqligi: 0.9464\n"
     ]
    },
    {
     "data": {
      "image/png": "[encoded data removed]",
      "text/plain": [
       "<Figure size 432x288 with 2 Axes>"
      ]
     },
     "metadata": {
      "needs_background": "light"
     },
     "output_type": "display_data"
    },
    {
     "data": {
      "image/png": "[encoded data removed]",
      "text/plain": [
       "<Figure size 432x288 with 1 Axes>"
      ]
     },
     "metadata": {
      "needs_background": "light"
     },
     "output_type": "display_data"
    }
   ],
   "source": [
    "# Modelni yaratamiz (training)\n",
    "xgb_model = XGBClassifier()\n",
    "xgb_model.fit(x_train, y_train)\n",
    "\n",
    "\n",
    "y_pred = xgb_model.predict(x_val)\n",
    "print(classification_report(y_val, y_pred))\n",
    "print(\"Model aniqligi:\", accuracy_score(y_val,y_pred))\n",
    "\n",
    "# confusion matrix\n",
    "conf_mat = metrics.confusion_matrix(y_val, y_pred)\n",
    "sns.heatmap(conf_mat, annot=True,fmt=\"g\")\n",
    "plt.show()\n",
    "\n",
    "# ROC curve\n",
    "fpr, tpr, thresholds = metrics.roc_curve(y_val, y_pred)\n",
    "roc_auc = metrics.auc(fpr, tpr)\n",
    "display = metrics.RocCurveDisplay(fpr=fpr, tpr=tpr, roc_auc=roc_auc, estimator_name='ROC curve')\n",
    "display.plot()\n",
    "plt.show()"
   ]
  },
  {
   "cell_type": "code",
   "execution_count": 38,
   "id": "e42961ab",
   "metadata": {
    "execution": {
     "iopub.execute_input": "2022-12-29T17:35:27.291445Z",
     "iopub.status.busy": "2022-12-29T17:35:27.290054Z",
     "iopub.status.idle": "2022-12-29T17:35:27.298173Z",
     "shell.execute_reply": "2022-12-29T17:35:27.296566Z"
    },
    "papermill": {
     "duration": 0.031289,
     "end_time": "2022-12-29T17:35:27.301252",
     "exception": false,
     "start_time": "2022-12-29T17:35:27.269963",
     "status": "completed"
    },
    "tags": []
   },
   "outputs": [],
   "source": [
    "natija=pd.DataFrame(test_preds)"
   ]
  },
  {
   "cell_type": "code",
   "execution_count": 39,
   "id": "2283ce8e",
   "metadata": {
    "execution": {
     "iopub.execute_input": "2022-12-29T17:35:27.340177Z",
     "iopub.status.busy": "2022-12-29T17:35:27.339718Z",
     "iopub.status.idle": "2022-12-29T17:35:27.354183Z",
     "shell.execute_reply": "2022-12-29T17:35:27.352777Z"
    },
    "papermill": {
     "duration": 0.037234,
     "end_time": "2022-12-29T17:35:27.356813",
     "exception": false,
     "start_time": "2022-12-29T17:35:27.319579",
     "status": "completed"
    },
    "tags": []
   },
   "outputs": [
    {
     "data": {
      "text/html": [
       "<div>\n",
       "<style scoped>\n",
       "    .dataframe tbody tr th:only-of-type {\n",
       "        vertical-align: middle;\n",
       "    }\n",
       "\n",
       "    .dataframe tbody tr th {\n",
       "        vertical-align: top;\n",
       "    }\n",
       "\n",
       "    .dataframe thead th {\n",
       "        text-align: right;\n",
       "    }\n",
       "</style>\n",
       "<table border=\"1\" class=\"dataframe\">\n",
       "  <thead>\n",
       "    <tr style=\"text-align: right;\">\n",
       "      <th></th>\n",
       "      <th>satisfaction</th>\n",
       "    </tr>\n",
       "  </thead>\n",
       "  <tbody>\n",
       "    <tr>\n",
       "      <th>0</th>\n",
       "      <td>0</td>\n",
       "    </tr>\n",
       "    <tr>\n",
       "      <th>1</th>\n",
       "      <td>1</td>\n",
       "    </tr>\n",
       "    <tr>\n",
       "      <th>2</th>\n",
       "      <td>1</td>\n",
       "    </tr>\n",
       "    <tr>\n",
       "      <th>3</th>\n",
       "      <td>1</td>\n",
       "    </tr>\n",
       "    <tr>\n",
       "      <th>4</th>\n",
       "      <td>0</td>\n",
       "    </tr>\n",
       "    <tr>\n",
       "      <th>...</th>\n",
       "      <td>...</td>\n",
       "    </tr>\n",
       "    <tr>\n",
       "      <th>3995</th>\n",
       "      <td>1</td>\n",
       "    </tr>\n",
       "    <tr>\n",
       "      <th>3996</th>\n",
       "      <td>0</td>\n",
       "    </tr>\n",
       "    <tr>\n",
       "      <th>3997</th>\n",
       "      <td>0</td>\n",
       "    </tr>\n",
       "    <tr>\n",
       "      <th>3998</th>\n",
       "      <td>1</td>\n",
       "    </tr>\n",
       "    <tr>\n",
       "      <th>3999</th>\n",
       "      <td>0</td>\n",
       "    </tr>\n",
       "  </tbody>\n",
       "</table>\n",
       "<p>4000 rows × 1 columns</p>\n",
       "</div>"
      ],
      "text/plain": [
       "      satisfaction\n",
       "0                0\n",
       "1                1\n",
       "2                1\n",
       "3                1\n",
       "4                0\n",
       "...            ...\n",
       "3995             1\n",
       "3996             0\n",
       "3997             0\n",
       "3998             1\n",
       "3999             0\n",
       "\n",
       "[4000 rows x 1 columns]"
      ]
     },
     "execution_count": 39,
     "metadata": {},
     "output_type": "execute_result"
    }
   ],
   "source": [
    "sub=pd.DataFrame({'satisfaction':test_preds})\n",
    "sub"
   ]
  },
  {
   "cell_type": "code",
   "execution_count": 40,
   "id": "4ff6d33b",
   "metadata": {
    "execution": {
     "iopub.execute_input": "2022-12-29T17:35:27.396057Z",
     "iopub.status.busy": "2022-12-29T17:35:27.395601Z",
     "iopub.status.idle": "2022-12-29T17:35:27.416718Z",
     "shell.execute_reply": "2022-12-29T17:35:27.415590Z"
    },
    "papermill": {
     "duration": 0.043842,
     "end_time": "2022-12-29T17:35:27.419575",
     "exception": false,
     "start_time": "2022-12-29T17:35:27.375733",
     "status": "completed"
    },
    "tags": []
   },
   "outputs": [
    {
     "data": {
      "text/html": [
       "<div>\n",
       "<style scoped>\n",
       "    .dataframe tbody tr th:only-of-type {\n",
       "        vertical-align: middle;\n",
       "    }\n",
       "\n",
       "    .dataframe tbody tr th {\n",
       "        vertical-align: top;\n",
       "    }\n",
       "\n",
       "    .dataframe thead th {\n",
       "        text-align: right;\n",
       "    }\n",
       "</style>\n",
       "<table border=\"1\" class=\"dataframe\">\n",
       "  <thead>\n",
       "    <tr style=\"text-align: right;\">\n",
       "      <th></th>\n",
       "      <th>id</th>\n",
       "      <th>satisfaction</th>\n",
       "    </tr>\n",
       "  </thead>\n",
       "  <tbody>\n",
       "    <tr>\n",
       "      <th>0</th>\n",
       "      <td>1</td>\n",
       "      <td>0</td>\n",
       "    </tr>\n",
       "    <tr>\n",
       "      <th>1</th>\n",
       "      <td>2</td>\n",
       "      <td>1</td>\n",
       "    </tr>\n",
       "    <tr>\n",
       "      <th>2</th>\n",
       "      <td>3</td>\n",
       "      <td>1</td>\n",
       "    </tr>\n",
       "    <tr>\n",
       "      <th>3</th>\n",
       "      <td>4</td>\n",
       "      <td>1</td>\n",
       "    </tr>\n",
       "    <tr>\n",
       "      <th>4</th>\n",
       "      <td>5</td>\n",
       "      <td>0</td>\n",
       "    </tr>\n",
       "    <tr>\n",
       "      <th>...</th>\n",
       "      <td>...</td>\n",
       "      <td>...</td>\n",
       "    </tr>\n",
       "    <tr>\n",
       "      <th>3995</th>\n",
       "      <td>3996</td>\n",
       "      <td>1</td>\n",
       "    </tr>\n",
       "    <tr>\n",
       "      <th>3996</th>\n",
       "      <td>3997</td>\n",
       "      <td>0</td>\n",
       "    </tr>\n",
       "    <tr>\n",
       "      <th>3997</th>\n",
       "      <td>3998</td>\n",
       "      <td>0</td>\n",
       "    </tr>\n",
       "    <tr>\n",
       "      <th>3998</th>\n",
       "      <td>3999</td>\n",
       "      <td>1</td>\n",
       "    </tr>\n",
       "    <tr>\n",
       "      <th>3999</th>\n",
       "      <td>4000</td>\n",
       "      <td>0</td>\n",
       "    </tr>\n",
       "  </tbody>\n",
       "</table>\n",
       "<p>4000 rows × 2 columns</p>\n",
       "</div>"
      ],
      "text/plain": [
       "        id  satisfaction\n",
       "0        1             0\n",
       "1        2             1\n",
       "2        3             1\n",
       "3        4             1\n",
       "4        5             0\n",
       "...    ...           ...\n",
       "3995  3996             1\n",
       "3996  3997             0\n",
       "3997  3998             0\n",
       "3998  3999             1\n",
       "3999  4000             0\n",
       "\n",
       "[4000 rows x 2 columns]"
      ]
     },
     "execution_count": 40,
     "metadata": {},
     "output_type": "execute_result"
    }
   ],
   "source": [
    "submission=pd.merge(test_id,sub,left_index=True,right_index=True)\n",
    "\n",
    "submission"
   ]
  },
  {
   "cell_type": "code",
   "execution_count": 41,
   "id": "89c83de4",
   "metadata": {
    "execution": {
     "iopub.execute_input": "2022-12-29T17:35:27.458171Z",
     "iopub.status.busy": "2022-12-29T17:35:27.457748Z",
     "iopub.status.idle": "2022-12-29T17:35:27.471615Z",
     "shell.execute_reply": "2022-12-29T17:35:27.470297Z"
    },
    "papermill": {
     "duration": 0.036578,
     "end_time": "2022-12-29T17:35:27.474594",
     "exception": false,
     "start_time": "2022-12-29T17:35:27.438016",
     "status": "completed"
    },
    "tags": []
   },
   "outputs": [],
   "source": [
    "submission.to_csv('avikompaniya.csv',index=False)"
   ]
  },
  {
   "cell_type": "code",
   "execution_count": null,
   "id": "27752039",
   "metadata": {
    "papermill": {
     "duration": 0.019219,
     "end_time": "2022-12-29T17:35:27.512134",
     "exception": false,
     "start_time": "2022-12-29T17:35:27.492915",
     "status": "completed"
    },
    "tags": []
   },
   "outputs": [],
   "source": []
  }
 ],
 "metadata": {
  "kernelspec": {
   "display_name": "Python 3",
   "language": "python",
   "name": "python3"
  },
  "language_info": {
   "codemirror_mode": {
    "name": "ipython",
    "version": 3
   },
   "file_extension": ".py",
   "mimetype": "text/x-python",
   "name": "python",
   "nbconvert_exporter": "python",
   "pygments_lexer": "ipython3",
   "version": "3.7.12"
  },
  "papermill": {
   "default_parameters": {},
   "duration": 27.098218,
   "end_time": "2022-12-29T17:35:28.556549",
   "environment_variables": {},
   "exception": null,
   "input_path": "__notebook__.ipynb",
   "output_path": "__notebook__.ipynb",
   "parameters": {},
   "start_time": "2022-12-29T17:35:01.458331",
   "version": "2.3.4"
  }
 },
 "nbformat": 4,
 "nbformat_minor": 5
}
